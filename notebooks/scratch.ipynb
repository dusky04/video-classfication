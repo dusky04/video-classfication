{
 "cells": [
  {
   "cell_type": "code",
   "execution_count": 1,
   "id": "41398efa-22d2-4337-89a3-02a8fc97208f",
   "metadata": {},
   "outputs": [],
   "source": [
    "from config import Config\n",
    "from train_cnn_lstm import train_model"
   ]
  },
  {
   "cell_type": "code",
   "execution_count": 2,
   "id": "a86a85b6-f416-49c5-a687-0e15294c3691",
   "metadata": {},
   "outputs": [],
   "source": [
    "config = Config()"
   ]
  },
  {
   "cell_type": "code",
   "execution_count": null,
   "id": "fa8b7a9d-ae19-4ebc-ad45-b5873ba0b322",
   "metadata": {},
   "outputs": [
    {
     "name": "stdout",
     "output_type": "stream",
     "text": [
      "Using Device:  cpu\n"
     ]
    },
    {
     "name": "stderr",
     "output_type": "stream",
     "text": [
      "Processing Epoch: 01:   0%|                                                                                         | 0/143 [00:00<?, ?it/s]"
     ]
    }
   ],
   "source": [
    "train_model(config)"
   ]
  }
 ],
 "metadata": {
  "kernelspec": {
   "display_name": "Python 3 (ipykernel)",
   "language": "python",
   "name": "python3"
  },
  "language_info": {
   "codemirror_mode": {
    "name": "ipython",
    "version": 3
   },
   "file_extension": ".py",
   "mimetype": "text/x-python",
   "name": "python",
   "nbconvert_exporter": "python",
   "pygments_lexer": "ipython3",
   "version": "3.11.12"
  }
 },
 "nbformat": 4,
 "nbformat_minor": 5
}
